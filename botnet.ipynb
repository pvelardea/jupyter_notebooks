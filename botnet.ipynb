{
 "cells": [
  {
   "cell_type": "markdown",
   "metadata": {},
   "source": [
    "Requieres [CategoryEncoders](http://contrib.scikit-learn.org/category_encoders/)<br>\n",
    "`pip install category_encoders`"
   ]
  },
  {
   "cell_type": "code",
   "execution_count": 1,
   "metadata": {},
   "outputs": [],
   "source": [
    "import numpy as np\n",
    "import pandas as pd\n",
    "import matplotlib.pyplot as plt\n",
    "from sklearn.model_selection import train_test_split\n",
    "from sklearn.compose import ColumnTransformer\n",
    "from sklearn.pipeline import Pipeline,make_pipeline\n",
    "from sklearn.feature_selection import SelectKBest,chi2\n",
    "from sklearn.linear_model import LogisticRegression\n",
    "from sklearn.tree import DecisionTreeClassifier\n",
    "from sklearn.svm import SVC\n",
    "from sklearn.metrics import confusion_matrix\n",
    "from sklearn.metrics import accuracy_score, recall_score, precision_score, f1_score, confusion_matrix, roc_auc_score\n",
    "from sklearn.metrics import classification_report\n",
    "from sklearn.metrics import plot_confusion_matrix\n",
    "target_names = ['class 0', 'class 1']"
   ]
  },
  {
   "cell_type": "code",
   "execution_count": 2,
   "metadata": {},
   "outputs": [],
   "source": [
    "#load dataset\n",
    "df = pd.read_csv('capture20110816-3.binetflow.csv')"
   ]
  },
  {
   "cell_type": "code",
   "execution_count": null,
   "metadata": {},
   "outputs": [],
   "source": [
    "#delete StartTime feature\n",
    "df.drop(['StartTime'],axis=1,inplace=True)\n",
    "#df.drop(['ts','srcIP','dstIP'],axis=1,inplace=True)"
   ]
  },
  {
   "cell_type": "code",
   "execution_count": 3,
   "metadata": {},
   "outputs": [
    {
     "data": {
      "text/plain": [
       "(2954230, 15)"
      ]
     },
     "execution_count": 3,
     "metadata": {},
     "output_type": "execute_result"
    }
   ],
   "source": [
    "#check dimensions\n",
    "df.shape"
   ]
  },
  {
   "cell_type": "code",
   "execution_count": 4,
   "metadata": {},
   "outputs": [
    {
     "data": {
      "text/html": [
       "<div>\n",
       "<style scoped>\n",
       "    .dataframe tbody tr th:only-of-type {\n",
       "        vertical-align: middle;\n",
       "    }\n",
       "\n",
       "    .dataframe tbody tr th {\n",
       "        vertical-align: top;\n",
       "    }\n",
       "\n",
       "    .dataframe thead th {\n",
       "        text-align: right;\n",
       "    }\n",
       "</style>\n",
       "<table border=\"1\" class=\"dataframe\">\n",
       "  <thead>\n",
       "    <tr style=\"text-align: right;\">\n",
       "      <th></th>\n",
       "      <th>StartTime</th>\n",
       "      <th>Dur</th>\n",
       "      <th>Proto</th>\n",
       "      <th>SrcAddr</th>\n",
       "      <th>Sport</th>\n",
       "      <th>Dir</th>\n",
       "      <th>DstAddr</th>\n",
       "      <th>Dport</th>\n",
       "      <th>State</th>\n",
       "      <th>sTos</th>\n",
       "      <th>dTos</th>\n",
       "      <th>TotPkts</th>\n",
       "      <th>TotBytes</th>\n",
       "      <th>SrcBytes</th>\n",
       "      <th>Label</th>\n",
       "    </tr>\n",
       "  </thead>\n",
       "  <tbody>\n",
       "    <tr>\n",
       "      <th>0</th>\n",
       "      <td>2011/08/16 14:23:17.316620</td>\n",
       "      <td>0.983988</td>\n",
       "      <td>tcp</td>\n",
       "      <td>147.32.3.51</td>\n",
       "      <td>4519</td>\n",
       "      <td>-&gt;</td>\n",
       "      <td>147.32.84.46</td>\n",
       "      <td>10010</td>\n",
       "      <td>S_RA</td>\n",
       "      <td>0.0</td>\n",
       "      <td>0.0</td>\n",
       "      <td>4</td>\n",
       "      <td>244</td>\n",
       "      <td>124</td>\n",
       "      <td>flow=Background-TCP-Attempt</td>\n",
       "    </tr>\n",
       "    <tr>\n",
       "      <th>1</th>\n",
       "      <td>2011/08/16 14:25:13.585599</td>\n",
       "      <td>0.909895</td>\n",
       "      <td>tcp</td>\n",
       "      <td>147.32.84.59</td>\n",
       "      <td>61591</td>\n",
       "      <td>-&gt;</td>\n",
       "      <td>199.59.149.200</td>\n",
       "      <td>443</td>\n",
       "      <td>SR_A</td>\n",
       "      <td>0.0</td>\n",
       "      <td>0.0</td>\n",
       "      <td>3</td>\n",
       "      <td>204</td>\n",
       "      <td>138</td>\n",
       "      <td>flow=Background-Established-cmpgw-CVUT</td>\n",
       "    </tr>\n",
       "    <tr>\n",
       "      <th>2</th>\n",
       "      <td>2011/08/16 14:26:27.614070</td>\n",
       "      <td>3.067423</td>\n",
       "      <td>tcp</td>\n",
       "      <td>217.129.160.86</td>\n",
       "      <td>2228</td>\n",
       "      <td>-&gt;</td>\n",
       "      <td>147.32.84.229</td>\n",
       "      <td>13363</td>\n",
       "      <td>SR_SA</td>\n",
       "      <td>0.0</td>\n",
       "      <td>0.0</td>\n",
       "      <td>3</td>\n",
       "      <td>184</td>\n",
       "      <td>122</td>\n",
       "      <td>flow=Background-TCP-Established</td>\n",
       "    </tr>\n",
       "    <tr>\n",
       "      <th>3</th>\n",
       "      <td>2011/08/16 14:26:29.245037</td>\n",
       "      <td>2.856905</td>\n",
       "      <td>tcp</td>\n",
       "      <td>217.129.160.86</td>\n",
       "      <td>2231</td>\n",
       "      <td>-&gt;</td>\n",
       "      <td>147.32.84.229</td>\n",
       "      <td>443</td>\n",
       "      <td>SR_SA</td>\n",
       "      <td>0.0</td>\n",
       "      <td>0.0</td>\n",
       "      <td>3</td>\n",
       "      <td>184</td>\n",
       "      <td>122</td>\n",
       "      <td>flow=Background-TCP-Established</td>\n",
       "    </tr>\n",
       "    <tr>\n",
       "      <th>4</th>\n",
       "      <td>2011/08/16 14:26:30.868242</td>\n",
       "      <td>2.985940</td>\n",
       "      <td>tcp</td>\n",
       "      <td>217.129.160.86</td>\n",
       "      <td>2234</td>\n",
       "      <td>-&gt;</td>\n",
       "      <td>147.32.84.229</td>\n",
       "      <td>80</td>\n",
       "      <td>SR_SA</td>\n",
       "      <td>0.0</td>\n",
       "      <td>0.0</td>\n",
       "      <td>3</td>\n",
       "      <td>184</td>\n",
       "      <td>122</td>\n",
       "      <td>flow=Background-TCP-Established</td>\n",
       "    </tr>\n",
       "  </tbody>\n",
       "</table>\n",
       "</div>"
      ],
      "text/plain": [
       "                    StartTime       Dur Proto         SrcAddr  Sport    Dir  \\\n",
       "0  2011/08/16 14:23:17.316620  0.983988   tcp     147.32.3.51   4519     ->   \n",
       "1  2011/08/16 14:25:13.585599  0.909895   tcp    147.32.84.59  61591     ->   \n",
       "2  2011/08/16 14:26:27.614070  3.067423   tcp  217.129.160.86   2228     ->   \n",
       "3  2011/08/16 14:26:29.245037  2.856905   tcp  217.129.160.86   2231     ->   \n",
       "4  2011/08/16 14:26:30.868242  2.985940   tcp  217.129.160.86   2234     ->   \n",
       "\n",
       "          DstAddr  Dport  State  sTos  dTos  TotPkts  TotBytes  SrcBytes  \\\n",
       "0    147.32.84.46  10010   S_RA   0.0   0.0        4       244       124   \n",
       "1  199.59.149.200    443   SR_A   0.0   0.0        3       204       138   \n",
       "2   147.32.84.229  13363  SR_SA   0.0   0.0        3       184       122   \n",
       "3   147.32.84.229    443  SR_SA   0.0   0.0        3       184       122   \n",
       "4   147.32.84.229     80  SR_SA   0.0   0.0        3       184       122   \n",
       "\n",
       "                                    Label  \n",
       "0             flow=Background-TCP-Attempt  \n",
       "1  flow=Background-Established-cmpgw-CVUT  \n",
       "2         flow=Background-TCP-Established  \n",
       "3         flow=Background-TCP-Established  \n",
       "4         flow=Background-TCP-Established  "
      ]
     },
     "execution_count": 4,
     "metadata": {},
     "output_type": "execute_result"
    }
   ],
   "source": [
    "df.head(5)"
   ]
  },
  {
   "cell_type": "markdown",
   "metadata": {},
   "source": [
    "## Pre-selección de rasgos"
   ]
  },
  {
   "cell_type": "code",
   "execution_count": 5,
   "metadata": {},
   "outputs": [
    {
     "data": {
      "text/plain": [
       "StartTime     object\n",
       "Dur          float64\n",
       "Proto         object\n",
       "SrcAddr       object\n",
       "Sport         object\n",
       "Dir           object\n",
       "DstAddr       object\n",
       "Dport         object\n",
       "State         object\n",
       "sTos         float64\n",
       "dTos         float64\n",
       "TotPkts        int64\n",
       "TotBytes       int64\n",
       "SrcBytes       int64\n",
       "Label         object\n",
       "dtype: object"
      ]
     },
     "execution_count": 5,
     "metadata": {},
     "output_type": "execute_result"
    }
   ],
   "source": [
    "#check dtypes\n",
    "df.dtypes"
   ]
  },
  {
   "cell_type": "code",
   "execution_count": 8,
   "metadata": {},
   "outputs": [
    {
     "name": "stdout",
     "output_type": "stream",
     "text": [
      "StartTime    2954226\n",
      "Dur           927848\n",
      "Proto             15\n",
      "SrcAddr       333816\n",
      "Sport          64599\n",
      "Dir                7\n",
      "DstAddr        97822\n",
      "Dport          59730\n",
      "State            255\n",
      "sTos               5\n",
      "dTos               4\n",
      "TotPkts         6662\n",
      "TotBytes       90284\n",
      "SrcBytes       40916\n",
      "Label             60\n",
      "dtype: int64\n"
     ]
    }
   ],
   "source": [
    "#check feature alphabet \n",
    "print(df.nunique())"
   ]
  },
  {
   "cell_type": "code",
   "execution_count": 6,
   "metadata": {},
   "outputs": [
    {
     "name": "stdout",
     "output_type": "stream",
     "text": [
      "StartTime         0\n",
      "Dur               0\n",
      "Proto             0\n",
      "SrcAddr           0\n",
      "Sport         30685\n",
      "Dir               0\n",
      "DstAddr           0\n",
      "Dport         14287\n",
      "State             3\n",
      "sTos          32938\n",
      "dTos         154393\n",
      "TotPkts           0\n",
      "TotBytes          0\n",
      "SrcBytes          0\n",
      "Label             0\n",
      "dtype: int64\n",
      "232306\n"
     ]
    }
   ],
   "source": [
    "#check the number of null values\n",
    "print(df.isnull().sum())\n",
    "print(df.isnull().values.sum())"
   ]
  },
  {
   "cell_type": "code",
   "execution_count": 9,
   "metadata": {},
   "outputs": [
    {
     "data": {
      "text/plain": [
       "array([  0.,  nan,   2., 192.,   3.,   1.])"
      ]
     },
     "execution_count": 9,
     "metadata": {},
     "output_type": "execute_result"
    }
   ],
   "source": [
    "#check alphabet where NaN exists\n",
    "df.sTos.unique()"
   ]
  },
  {
   "cell_type": "code",
   "execution_count": 10,
   "metadata": {},
   "outputs": [
    {
     "data": {
      "text/plain": [
       "array([ 0., nan,  3.,  2.,  1.])"
      ]
     },
     "execution_count": 10,
     "metadata": {},
     "output_type": "execute_result"
    }
   ],
   "source": [
    "#check alphabet where NaN exists\n",
    "df.dTos.unique()"
   ]
  },
  {
   "cell_type": "code",
   "execution_count": 13,
   "metadata": {},
   "outputs": [],
   "source": [
    "df['sTos'] = df['sTos'].astype(str)\n",
    "df['dTos'] = df['dTos'].astype(str)"
   ]
  },
  {
   "cell_type": "code",
   "execution_count": 14,
   "metadata": {},
   "outputs": [
    {
     "data": {
      "text/plain": [
       "StartTime     object\n",
       "Dur          float64\n",
       "Proto         object\n",
       "SrcAddr       object\n",
       "Sport         object\n",
       "Dir           object\n",
       "DstAddr       object\n",
       "Dport         object\n",
       "State         object\n",
       "sTos          object\n",
       "dTos          object\n",
       "TotPkts        int64\n",
       "TotBytes       int64\n",
       "SrcBytes       int64\n",
       "Label         object\n",
       "dtype: object"
      ]
     },
     "execution_count": 14,
     "metadata": {},
     "output_type": "execute_result"
    }
   ],
   "source": [
    "df.dtypes"
   ]
  },
  {
   "cell_type": "code",
   "execution_count": 15,
   "metadata": {},
   "outputs": [
    {
     "data": {
      "text/plain": [
       "array(['0.0', 'nan', '3.0', '2.0', '1.0'], dtype=object)"
      ]
     },
     "execution_count": 15,
     "metadata": {},
     "output_type": "execute_result"
    }
   ],
   "source": [
    "#check alphabet where NaN exists\n",
    "df.dTos.unique()"
   ]
  },
  {
   "cell_type": "code",
   "execution_count": 16,
   "metadata": {},
   "outputs": [
    {
     "name": "stdout",
     "output_type": "stream",
     "text": [
      "StartTime        0\n",
      "Dur              0\n",
      "Proto            0\n",
      "SrcAddr          0\n",
      "Sport        30685\n",
      "Dir              0\n",
      "DstAddr          0\n",
      "Dport        14287\n",
      "State            3\n",
      "sTos             0\n",
      "dTos             0\n",
      "TotPkts          0\n",
      "TotBytes         0\n",
      "SrcBytes         0\n",
      "Label            0\n",
      "dtype: int64\n",
      "44975\n"
     ]
    }
   ],
   "source": [
    "#check the number of null values\n",
    "print(df.isnull().sum())\n",
    "print(df.isnull().values.sum())"
   ]
  },
  {
   "cell_type": "code",
   "execution_count": 17,
   "metadata": {},
   "outputs": [
    {
     "data": {
      "text/plain": [
       "array(['   ->', '  <?>', '  <->', '   ?>', '  who', '  <-', '  <?'],\n",
       "      dtype=object)"
      ]
     },
     "execution_count": 17,
     "metadata": {},
     "output_type": "execute_result"
    }
   ],
   "source": [
    "#check directions types\n",
    "df.Dir.unique()"
   ]
  },
  {
   "cell_type": "code",
   "execution_count": 19,
   "metadata": {},
   "outputs": [
    {
     "data": {
      "image/png": "[encoded data removed]",
      "text/plain": [
       "<Figure size 432x288 with 1 Axes>"
      ]
     },
     "metadata": {
      "needs_background": "light"
     },
     "output_type": "display_data"
    }
   ],
   "source": [
    "#Check columns that have very few values, e.g. flow_cwr column\n",
    "ax = df['dTos'].value_counts().plot(kind='bar',fontsize=16) \n",
    "for p in ax.patches:\n",
    "    x = p.get_x()\n",
    "    h = p.get_height()\n",
    "    w = p.get_width()\n",
    "    ax.annotate(f'{h:.0f}\\n', (x + w/2, h), ha='center', va='center', size=16)\n",
    "plt.margins(y=0.2)\n",
    "plt.tight_layout()\n",
    "plt.show()"
   ]
  },
  {
   "cell_type": "code",
   "execution_count": 20,
   "metadata": {},
   "outputs": [],
   "source": [
    "# change label values\n",
    "df['Label'] = df.Label.str.contains(\"Botnet\")\n",
    "df['Label'] = df['Label'].astype(int)\n"
   ]
  },
  {
   "cell_type": "code",
   "execution_count": 21,
   "metadata": {},
   "outputs": [
    {
     "name": "stdout",
     "output_type": "stream",
     "text": [
      "> Class 0 : 2948103 of 2954230 (99.8%)\n",
      "> Class 1 : 6127 of 2954230 (0.2%)\n"
     ]
    }
   ],
   "source": [
    "#check % class distribution \n",
    "y=df['Label'].values #convert to nparray\n",
    "\n",
    "classes=np.unique(y)\n",
    "total=len(y)\n",
    "\n",
    "for c in classes:\n",
    "    n_examples=len(y[y==c])\n",
    "    percent = n_examples/total*100\n",
    "    print('> Class %d : %d of %d (%.1f%%)' % (c, n_examples,total,percent))"
   ]
  },
  {
   "cell_type": "markdown",
   "metadata": {},
   "source": [
    "# Codificación de variables categóricas"
   ]
  },
  {
   "cell_type": "code",
   "execution_count": 22,
   "metadata": {},
   "outputs": [
    {
     "data": {
      "text/plain": [
       "Dur         float64\n",
       "Proto        object\n",
       "SrcAddr      object\n",
       "Sport        object\n",
       "Dir          object\n",
       "DstAddr      object\n",
       "Dport        object\n",
       "State        object\n",
       "sTos         object\n",
       "dTos         object\n",
       "TotPkts       int64\n",
       "TotBytes      int64\n",
       "SrcBytes      int64\n",
       "Label         int32\n",
       "dtype: object"
      ]
     },
     "execution_count": 22,
     "metadata": {},
     "output_type": "execute_result"
    }
   ],
   "source": [
    "#Data types for each attibute\n",
    "df.dtypes"
   ]
  },
  {
   "cell_type": "code",
   "execution_count": 23,
   "metadata": {},
   "outputs": [],
   "source": [
    "#Train Test Split\n",
    "X_train,X_test,y_train,y_test = train_test_split(df.drop(columns=['Label']), df['Label'], test_size=0.2, random_state=42)"
   ]
  },
  {
   "cell_type": "code",
   "execution_count": 24,
   "metadata": {},
   "outputs": [],
   "source": [
    "#https://stackoverflow.com/questions/62880686/pipeline-with-and-without-target-based-encoding\n",
    "from category_encoders import TargetEncoder"
   ]
  },
  {
   "cell_type": "code",
   "execution_count": 25,
   "metadata": {},
   "outputs": [],
   "source": [
    "# use target encoding to encode five categorical features\n",
    "enc = TargetEncoder(cols=['Proto','SrcAddr','Sport','Dir','DstAddr','Dport','State','sTos','dTos'])\n",
    "\n",
    "# transform the datasets\n",
    "training_numeric_dataset = enc.fit_transform(X_train, y_train)\n",
    "testing_numeric_dataset = enc.transform(X_test)"
   ]
  },
  {
   "cell_type": "code",
   "execution_count": 27,
   "metadata": {},
   "outputs": [
    {
     "data": {
      "text/html": [
       "<div>\n",
       "<style scoped>\n",
       "    .dataframe tbody tr th:only-of-type {\n",
       "        vertical-align: middle;\n",
       "    }\n",
       "\n",
       "    .dataframe tbody tr th {\n",
       "        vertical-align: top;\n",
       "    }\n",
       "\n",
       "    .dataframe thead th {\n",
       "        text-align: right;\n",
       "    }\n",
       "</style>\n",
       "<table border=\"1\" class=\"dataframe\">\n",
       "  <thead>\n",
       "    <tr style=\"text-align: right;\">\n",
       "      <th></th>\n",
       "      <th>Dur</th>\n",
       "      <th>Proto</th>\n",
       "      <th>SrcAddr</th>\n",
       "      <th>Sport</th>\n",
       "      <th>Dir</th>\n",
       "      <th>DstAddr</th>\n",
       "      <th>Dport</th>\n",
       "      <th>State</th>\n",
       "      <th>sTos</th>\n",
       "      <th>dTos</th>\n",
       "      <th>TotPkts</th>\n",
       "      <th>TotBytes</th>\n",
       "      <th>SrcBytes</th>\n",
       "    </tr>\n",
       "  </thead>\n",
       "  <tbody>\n",
       "    <tr>\n",
       "      <th>2593109</th>\n",
       "      <td>0.000226</td>\n",
       "      <td>0.000140</td>\n",
       "      <td>0.000000</td>\n",
       "      <td>7.842956e-14</td>\n",
       "      <td>0.000143</td>\n",
       "      <td>0.000055</td>\n",
       "      <td>0.000055</td>\n",
       "      <td>0.000143</td>\n",
       "      <td>0.002103</td>\n",
       "      <td>0.000514</td>\n",
       "      <td>2</td>\n",
       "      <td>321</td>\n",
       "      <td>84</td>\n",
       "    </tr>\n",
       "    <tr>\n",
       "      <th>1554536</th>\n",
       "      <td>1.358697</td>\n",
       "      <td>0.010737</td>\n",
       "      <td>0.002078</td>\n",
       "      <td>2.885273e-14</td>\n",
       "      <td>0.009206</td>\n",
       "      <td>0.000000</td>\n",
       "      <td>0.000000</td>\n",
       "      <td>0.003723</td>\n",
       "      <td>0.002103</td>\n",
       "      <td>0.000514</td>\n",
       "      <td>21</td>\n",
       "      <td>1662</td>\n",
       "      <td>957</td>\n",
       "    </tr>\n",
       "    <tr>\n",
       "      <th>1311065</th>\n",
       "      <td>0.000644</td>\n",
       "      <td>0.000140</td>\n",
       "      <td>0.002078</td>\n",
       "      <td>0.000000e+00</td>\n",
       "      <td>0.000143</td>\n",
       "      <td>0.000000</td>\n",
       "      <td>0.000000</td>\n",
       "      <td>0.000143</td>\n",
       "      <td>0.002103</td>\n",
       "      <td>0.000514</td>\n",
       "      <td>2</td>\n",
       "      <td>310</td>\n",
       "      <td>64</td>\n",
       "    </tr>\n",
       "    <tr>\n",
       "      <th>705633</th>\n",
       "      <td>3062.626221</td>\n",
       "      <td>0.000140</td>\n",
       "      <td>0.000559</td>\n",
       "      <td>1.276470e-08</td>\n",
       "      <td>0.000143</td>\n",
       "      <td>0.000000</td>\n",
       "      <td>0.000000</td>\n",
       "      <td>0.000143</td>\n",
       "      <td>0.002103</td>\n",
       "      <td>0.000514</td>\n",
       "      <td>4</td>\n",
       "      <td>268</td>\n",
       "      <td>148</td>\n",
       "    </tr>\n",
       "    <tr>\n",
       "      <th>1423647</th>\n",
       "      <td>0.206378</td>\n",
       "      <td>0.010737</td>\n",
       "      <td>0.000000</td>\n",
       "      <td>6.000000e-02</td>\n",
       "      <td>0.009206</td>\n",
       "      <td>0.000000</td>\n",
       "      <td>0.000083</td>\n",
       "      <td>0.003723</td>\n",
       "      <td>0.002103</td>\n",
       "      <td>0.000514</td>\n",
       "      <td>40</td>\n",
       "      <td>30694</td>\n",
       "      <td>1089</td>\n",
       "    </tr>\n",
       "    <tr>\n",
       "      <th>...</th>\n",
       "      <td>...</td>\n",
       "      <td>...</td>\n",
       "      <td>...</td>\n",
       "      <td>...</td>\n",
       "      <td>...</td>\n",
       "      <td>...</td>\n",
       "      <td>...</td>\n",
       "      <td>...</td>\n",
       "      <td>...</td>\n",
       "      <td>...</td>\n",
       "      <td>...</td>\n",
       "      <td>...</td>\n",
       "      <td>...</td>\n",
       "    </tr>\n",
       "    <tr>\n",
       "      <th>1692743</th>\n",
       "      <td>0.000267</td>\n",
       "      <td>0.000140</td>\n",
       "      <td>0.000000</td>\n",
       "      <td>0.000000e+00</td>\n",
       "      <td>0.000143</td>\n",
       "      <td>0.000055</td>\n",
       "      <td>0.000055</td>\n",
       "      <td>0.000143</td>\n",
       "      <td>0.002103</td>\n",
       "      <td>0.000514</td>\n",
       "      <td>2</td>\n",
       "      <td>214</td>\n",
       "      <td>81</td>\n",
       "    </tr>\n",
       "    <tr>\n",
       "      <th>2356330</th>\n",
       "      <td>0.000437</td>\n",
       "      <td>0.000140</td>\n",
       "      <td>0.000000</td>\n",
       "      <td>0.000000e+00</td>\n",
       "      <td>0.000143</td>\n",
       "      <td>0.000000</td>\n",
       "      <td>0.000000</td>\n",
       "      <td>0.000143</td>\n",
       "      <td>0.002103</td>\n",
       "      <td>0.000514</td>\n",
       "      <td>2</td>\n",
       "      <td>142</td>\n",
       "      <td>81</td>\n",
       "    </tr>\n",
       "    <tr>\n",
       "      <th>2229084</th>\n",
       "      <td>0.309085</td>\n",
       "      <td>0.010737</td>\n",
       "      <td>0.000000</td>\n",
       "      <td>2.222222e-02</td>\n",
       "      <td>0.009206</td>\n",
       "      <td>0.000000</td>\n",
       "      <td>0.000083</td>\n",
       "      <td>0.003723</td>\n",
       "      <td>0.002103</td>\n",
       "      <td>0.000514</td>\n",
       "      <td>32</td>\n",
       "      <td>26439</td>\n",
       "      <td>798</td>\n",
       "    </tr>\n",
       "    <tr>\n",
       "      <th>2768307</th>\n",
       "      <td>2163.232666</td>\n",
       "      <td>0.000140</td>\n",
       "      <td>0.002078</td>\n",
       "      <td>9.687389e-18</td>\n",
       "      <td>0.000143</td>\n",
       "      <td>0.000000</td>\n",
       "      <td>0.000000</td>\n",
       "      <td>0.000143</td>\n",
       "      <td>0.002103</td>\n",
       "      <td>0.000514</td>\n",
       "      <td>4</td>\n",
       "      <td>659</td>\n",
       "      <td>538</td>\n",
       "    </tr>\n",
       "    <tr>\n",
       "      <th>2219110</th>\n",
       "      <td>0.000310</td>\n",
       "      <td>0.000140</td>\n",
       "      <td>0.000559</td>\n",
       "      <td>4.695890e-09</td>\n",
       "      <td>0.000143</td>\n",
       "      <td>0.000000</td>\n",
       "      <td>0.000000</td>\n",
       "      <td>0.000143</td>\n",
       "      <td>0.002103</td>\n",
       "      <td>0.000514</td>\n",
       "      <td>2</td>\n",
       "      <td>134</td>\n",
       "      <td>74</td>\n",
       "    </tr>\n",
       "  </tbody>\n",
       "</table>\n",
       "<p>2363384 rows × 13 columns</p>\n",
       "</div>"
      ],
      "text/plain": [
       "                 Dur     Proto   SrcAddr         Sport       Dir   DstAddr  \\\n",
       "2593109     0.000226  0.000140  0.000000  7.842956e-14  0.000143  0.000055   \n",
       "1554536     1.358697  0.010737  0.002078  2.885273e-14  0.009206  0.000000   \n",
       "1311065     0.000644  0.000140  0.002078  0.000000e+00  0.000143  0.000000   \n",
       "705633   3062.626221  0.000140  0.000559  1.276470e-08  0.000143  0.000000   \n",
       "1423647     0.206378  0.010737  0.000000  6.000000e-02  0.009206  0.000000   \n",
       "...              ...       ...       ...           ...       ...       ...   \n",
       "1692743     0.000267  0.000140  0.000000  0.000000e+00  0.000143  0.000055   \n",
       "2356330     0.000437  0.000140  0.000000  0.000000e+00  0.000143  0.000000   \n",
       "2229084     0.309085  0.010737  0.000000  2.222222e-02  0.009206  0.000000   \n",
       "2768307  2163.232666  0.000140  0.002078  9.687389e-18  0.000143  0.000000   \n",
       "2219110     0.000310  0.000140  0.000559  4.695890e-09  0.000143  0.000000   \n",
       "\n",
       "            Dport     State      sTos      dTos  TotPkts  TotBytes  SrcBytes  \n",
       "2593109  0.000055  0.000143  0.002103  0.000514        2       321        84  \n",
       "1554536  0.000000  0.003723  0.002103  0.000514       21      1662       957  \n",
       "1311065  0.000000  0.000143  0.002103  0.000514        2       310        64  \n",
       "705633   0.000000  0.000143  0.002103  0.000514        4       268       148  \n",
       "1423647  0.000083  0.003723  0.002103  0.000514       40     30694      1089  \n",
       "...           ...       ...       ...       ...      ...       ...       ...  \n",
       "1692743  0.000055  0.000143  0.002103  0.000514        2       214        81  \n",
       "2356330  0.000000  0.000143  0.002103  0.000514        2       142        81  \n",
       "2229084  0.000083  0.003723  0.002103  0.000514       32     26439       798  \n",
       "2768307  0.000000  0.000143  0.002103  0.000514        4       659       538  \n",
       "2219110  0.000000  0.000143  0.002103  0.000514        2       134        74  \n",
       "\n",
       "[2363384 rows x 13 columns]"
      ]
     },
     "execution_count": 27,
     "metadata": {},
     "output_type": "execute_result"
    }
   ],
   "source": [
    "#check transformed dataset\n",
    "training_numeric_dataset"
   ]
  },
  {
   "cell_type": "code",
   "execution_count": 28,
   "metadata": {},
   "outputs": [
    {
     "data": {
      "text/html": [
       "<div>\n",
       "<style scoped>\n",
       "    .dataframe tbody tr th:only-of-type {\n",
       "        vertical-align: middle;\n",
       "    }\n",
       "\n",
       "    .dataframe tbody tr th {\n",
       "        vertical-align: top;\n",
       "    }\n",
       "\n",
       "    .dataframe thead th {\n",
       "        text-align: right;\n",
       "    }\n",
       "</style>\n",
       "<table border=\"1\" class=\"dataframe\">\n",
       "  <thead>\n",
       "    <tr style=\"text-align: right;\">\n",
       "      <th></th>\n",
       "      <th>Dur</th>\n",
       "      <th>Proto</th>\n",
       "      <th>SrcAddr</th>\n",
       "      <th>Sport</th>\n",
       "      <th>Dir</th>\n",
       "      <th>DstAddr</th>\n",
       "      <th>Dport</th>\n",
       "      <th>State</th>\n",
       "      <th>sTos</th>\n",
       "      <th>dTos</th>\n",
       "      <th>TotPkts</th>\n",
       "      <th>TotBytes</th>\n",
       "      <th>SrcBytes</th>\n",
       "    </tr>\n",
       "  </thead>\n",
       "  <tbody>\n",
       "    <tr>\n",
       "      <th>2008122</th>\n",
       "      <td>0.000314</td>\n",
       "      <td>0.00014</td>\n",
       "      <td>0.000000e+00</td>\n",
       "      <td>0.000000e+00</td>\n",
       "      <td>0.000143</td>\n",
       "      <td>0.000055</td>\n",
       "      <td>0.000055</td>\n",
       "      <td>0.000143</td>\n",
       "      <td>0.002103</td>\n",
       "      <td>0.000514</td>\n",
       "      <td>2</td>\n",
       "      <td>292</td>\n",
       "      <td>69</td>\n",
       "    </tr>\n",
       "    <tr>\n",
       "      <th>2226239</th>\n",
       "      <td>0.003282</td>\n",
       "      <td>0.00014</td>\n",
       "      <td>2.077530e-03</td>\n",
       "      <td>3.469770e-08</td>\n",
       "      <td>0.000143</td>\n",
       "      <td>0.000000</td>\n",
       "      <td>0.000000</td>\n",
       "      <td>0.000143</td>\n",
       "      <td>0.002103</td>\n",
       "      <td>0.000514</td>\n",
       "      <td>4</td>\n",
       "      <td>2934</td>\n",
       "      <td>60</td>\n",
       "    </tr>\n",
       "    <tr>\n",
       "      <th>2192592</th>\n",
       "      <td>3041.445068</td>\n",
       "      <td>0.00014</td>\n",
       "      <td>2.077530e-03</td>\n",
       "      <td>0.000000e+00</td>\n",
       "      <td>0.000143</td>\n",
       "      <td>0.000000</td>\n",
       "      <td>0.000000</td>\n",
       "      <td>0.000143</td>\n",
       "      <td>0.002103</td>\n",
       "      <td>0.000514</td>\n",
       "      <td>4</td>\n",
       "      <td>272</td>\n",
       "      <td>152</td>\n",
       "    </tr>\n",
       "    <tr>\n",
       "      <th>2029061</th>\n",
       "      <td>0.000340</td>\n",
       "      <td>0.00014</td>\n",
       "      <td>6.966998e-07</td>\n",
       "      <td>0.000000e+00</td>\n",
       "      <td>0.000143</td>\n",
       "      <td>0.000000</td>\n",
       "      <td>0.000000</td>\n",
       "      <td>0.000143</td>\n",
       "      <td>0.002103</td>\n",
       "      <td>0.000514</td>\n",
       "      <td>2</td>\n",
       "      <td>235</td>\n",
       "      <td>173</td>\n",
       "    </tr>\n",
       "    <tr>\n",
       "      <th>202067</th>\n",
       "      <td>0.000328</td>\n",
       "      <td>0.00014</td>\n",
       "      <td>0.000000e+00</td>\n",
       "      <td>4.613042e-19</td>\n",
       "      <td>0.000143</td>\n",
       "      <td>0.000055</td>\n",
       "      <td>0.000055</td>\n",
       "      <td>0.000143</td>\n",
       "      <td>0.002103</td>\n",
       "      <td>0.000514</td>\n",
       "      <td>2</td>\n",
       "      <td>337</td>\n",
       "      <td>87</td>\n",
       "    </tr>\n",
       "    <tr>\n",
       "      <th>...</th>\n",
       "      <td>...</td>\n",
       "      <td>...</td>\n",
       "      <td>...</td>\n",
       "      <td>...</td>\n",
       "      <td>...</td>\n",
       "      <td>...</td>\n",
       "      <td>...</td>\n",
       "      <td>...</td>\n",
       "      <td>...</td>\n",
       "      <td>...</td>\n",
       "      <td>...</td>\n",
       "      <td>...</td>\n",
       "      <td>...</td>\n",
       "    </tr>\n",
       "    <tr>\n",
       "      <th>1640412</th>\n",
       "      <td>0.000290</td>\n",
       "      <td>0.00014</td>\n",
       "      <td>0.000000e+00</td>\n",
       "      <td>1.436501e-15</td>\n",
       "      <td>0.000143</td>\n",
       "      <td>0.000055</td>\n",
       "      <td>0.000055</td>\n",
       "      <td>0.000143</td>\n",
       "      <td>0.002103</td>\n",
       "      <td>0.000514</td>\n",
       "      <td>2</td>\n",
       "      <td>264</td>\n",
       "      <td>75</td>\n",
       "    </tr>\n",
       "    <tr>\n",
       "      <th>2612957</th>\n",
       "      <td>0.000319</td>\n",
       "      <td>0.00014</td>\n",
       "      <td>0.000000e+00</td>\n",
       "      <td>0.000000e+00</td>\n",
       "      <td>0.000143</td>\n",
       "      <td>0.000055</td>\n",
       "      <td>0.000055</td>\n",
       "      <td>0.000143</td>\n",
       "      <td>0.002103</td>\n",
       "      <td>0.000514</td>\n",
       "      <td>2</td>\n",
       "      <td>296</td>\n",
       "      <td>79</td>\n",
       "    </tr>\n",
       "    <tr>\n",
       "      <th>1686459</th>\n",
       "      <td>0.000387</td>\n",
       "      <td>0.00014</td>\n",
       "      <td>2.077530e-03</td>\n",
       "      <td>0.000000e+00</td>\n",
       "      <td>0.000143</td>\n",
       "      <td>0.000000</td>\n",
       "      <td>0.000000</td>\n",
       "      <td>0.000143</td>\n",
       "      <td>0.002103</td>\n",
       "      <td>0.000514</td>\n",
       "      <td>2</td>\n",
       "      <td>128</td>\n",
       "      <td>60</td>\n",
       "    </tr>\n",
       "    <tr>\n",
       "      <th>299449</th>\n",
       "      <td>0.000612</td>\n",
       "      <td>0.00014</td>\n",
       "      <td>5.587337e-04</td>\n",
       "      <td>0.000000e+00</td>\n",
       "      <td>0.000143</td>\n",
       "      <td>0.000000</td>\n",
       "      <td>0.000000</td>\n",
       "      <td>0.000143</td>\n",
       "      <td>0.002103</td>\n",
       "      <td>0.000514</td>\n",
       "      <td>2</td>\n",
       "      <td>136</td>\n",
       "      <td>76</td>\n",
       "    </tr>\n",
       "    <tr>\n",
       "      <th>1582901</th>\n",
       "      <td>0.000281</td>\n",
       "      <td>0.00014</td>\n",
       "      <td>0.000000e+00</td>\n",
       "      <td>0.000000e+00</td>\n",
       "      <td>0.000143</td>\n",
       "      <td>0.000055</td>\n",
       "      <td>0.000055</td>\n",
       "      <td>0.000143</td>\n",
       "      <td>0.002103</td>\n",
       "      <td>0.000514</td>\n",
       "      <td>2</td>\n",
       "      <td>328</td>\n",
       "      <td>85</td>\n",
       "    </tr>\n",
       "  </tbody>\n",
       "</table>\n",
       "<p>590846 rows × 13 columns</p>\n",
       "</div>"
      ],
      "text/plain": [
       "                 Dur    Proto       SrcAddr         Sport       Dir   DstAddr  \\\n",
       "2008122     0.000314  0.00014  0.000000e+00  0.000000e+00  0.000143  0.000055   \n",
       "2226239     0.003282  0.00014  2.077530e-03  3.469770e-08  0.000143  0.000000   \n",
       "2192592  3041.445068  0.00014  2.077530e-03  0.000000e+00  0.000143  0.000000   \n",
       "2029061     0.000340  0.00014  6.966998e-07  0.000000e+00  0.000143  0.000000   \n",
       "202067      0.000328  0.00014  0.000000e+00  4.613042e-19  0.000143  0.000055   \n",
       "...              ...      ...           ...           ...       ...       ...   \n",
       "1640412     0.000290  0.00014  0.000000e+00  1.436501e-15  0.000143  0.000055   \n",
       "2612957     0.000319  0.00014  0.000000e+00  0.000000e+00  0.000143  0.000055   \n",
       "1686459     0.000387  0.00014  2.077530e-03  0.000000e+00  0.000143  0.000000   \n",
       "299449      0.000612  0.00014  5.587337e-04  0.000000e+00  0.000143  0.000000   \n",
       "1582901     0.000281  0.00014  0.000000e+00  0.000000e+00  0.000143  0.000055   \n",
       "\n",
       "            Dport     State      sTos      dTos  TotPkts  TotBytes  SrcBytes  \n",
       "2008122  0.000055  0.000143  0.002103  0.000514        2       292        69  \n",
       "2226239  0.000000  0.000143  0.002103  0.000514        4      2934        60  \n",
       "2192592  0.000000  0.000143  0.002103  0.000514        4       272       152  \n",
       "2029061  0.000000  0.000143  0.002103  0.000514        2       235       173  \n",
       "202067   0.000055  0.000143  0.002103  0.000514        2       337        87  \n",
       "...           ...       ...       ...       ...      ...       ...       ...  \n",
       "1640412  0.000055  0.000143  0.002103  0.000514        2       264        75  \n",
       "2612957  0.000055  0.000143  0.002103  0.000514        2       296        79  \n",
       "1686459  0.000000  0.000143  0.002103  0.000514        2       128        60  \n",
       "299449   0.000000  0.000143  0.002103  0.000514        2       136        76  \n",
       "1582901  0.000055  0.000143  0.002103  0.000514        2       328        85  \n",
       "\n",
       "[590846 rows x 13 columns]"
      ]
     },
     "execution_count": 28,
     "metadata": {},
     "output_type": "execute_result"
    }
   ],
   "source": [
    "#check transformed dataset\n",
    "testing_numeric_dataset"
   ]
  },
  {
   "cell_type": "code",
   "execution_count": 29,
   "metadata": {},
   "outputs": [
    {
     "data": {
      "text/plain": [
       "Dur         float64\n",
       "Proto       float64\n",
       "SrcAddr     float64\n",
       "Sport       float64\n",
       "Dir         float64\n",
       "DstAddr     float64\n",
       "Dport       float64\n",
       "State       float64\n",
       "sTos        float64\n",
       "dTos        float64\n",
       "TotPkts       int64\n",
       "TotBytes      int64\n",
       "SrcBytes      int64\n",
       "dtype: object"
      ]
     },
     "execution_count": 29,
     "metadata": {},
     "output_type": "execute_result"
    }
   ],
   "source": [
    "#Check that no categorical variables remain\n",
    "testing_numeric_dataset.dtypes"
   ]
  },
  {
   "cell_type": "markdown",
   "metadata": {},
   "source": [
    "# Estandarización de variables"
   ]
  },
  {
   "cell_type": "code",
   "execution_count": 30,
   "metadata": {},
   "outputs": [],
   "source": [
    "# Selección de las variables por típo\n",
    "# https://www.cienciadedatos.net/documentos/py06_machine_learning_python_scikitlearn.html\n",
    "from sklearn.preprocessing import StandardScaler\n",
    "\n",
    "# Se estandarizan las columnas numéricas. Para mantener las columnas a las que \n",
    "# no se les aplica # ninguna transformación se tiene que indicar remainder='passthrough'.\n",
    "numeric_cols = training_numeric_dataset.select_dtypes(include=['float64', 'int']).columns.to_list()\n",
    "\n",
    "preprocessor = ColumnTransformer([('scale', StandardScaler(), numeric_cols)], remainder='passthrough')"
   ]
  },
  {
   "cell_type": "code",
   "execution_count": 31,
   "metadata": {},
   "outputs": [],
   "source": [
    "X_train_prep = preprocessor.fit_transform(training_numeric_dataset)\n",
    "X_test_prep  = preprocessor.transform(testing_numeric_dataset)"
   ]
  },
  {
   "cell_type": "markdown",
   "metadata": {},
   "source": [
    "El resultado devuelto por `ColumnTransformer` es un numpy array, por lo que se pierden los nombres de las columnas. Suele ser interesante poder inspeccionar cómo queda el set de datos tras el preprocesado en formato dataframe [URL](https://www.cienciadedatos.net/documentos/py06_machine_learning_python_scikitlearn.html)."
   ]
  },
  {
   "cell_type": "code",
   "execution_count": 32,
   "metadata": {},
   "outputs": [
    {
     "data": {
      "text/plain": [
       "((2363384, 13), (590846, 13))"
      ]
     },
     "execution_count": 32,
     "metadata": {},
     "output_type": "execute_result"
    }
   ],
   "source": [
    "#Dimensiones del los datasets de training y testing\n",
    "X_train_prep.shape, X_test_prep.shape"
   ]
  },
  {
   "cell_type": "markdown",
   "metadata": {},
   "source": [
    "# Feature selection\n",
    "#### Crear X & y para evaluar regresión logística segun listing 16.12 [URL](https://www.w3schools.com/python/numpy/numpy_array_join.asp)"
   ]
  },
  {
   "cell_type": "code",
   "execution_count": 33,
   "metadata": {},
   "outputs": [],
   "source": [
    "#join the prepared traing and test datasets in a single array X and y\n",
    "X = np.vstack((X_train_prep, X_test_prep))\n",
    "y = np.hstack((y_train, y_test))"
   ]
  },
  {
   "cell_type": "code",
   "execution_count": 49,
   "metadata": {},
   "outputs": [
    {
     "data": {
      "text/plain": [
       "(numpy.ndarray, dtype('float64'))"
      ]
     },
     "execution_count": 49,
     "metadata": {},
     "output_type": "execute_result"
    }
   ],
   "source": [
    "type(X), X.dtype"
   ]
  },
  {
   "cell_type": "code",
   "execution_count": 50,
   "metadata": {},
   "outputs": [
    {
     "data": {
      "text/plain": [
       "(numpy.ndarray, dtype('int32'))"
      ]
     },
     "execution_count": 50,
     "metadata": {},
     "output_type": "execute_result"
    }
   ],
   "source": [
    "type(y), y.dtype"
   ]
  },
  {
   "cell_type": "markdown",
   "metadata": {},
   "source": [
    "# Entrenar modelo con algoritmos modificados\n",
    "## Regresión logística sensible al costo"
   ]
  },
  {
   "cell_type": "markdown",
   "metadata": {},
   "source": [
    "### LR with hyperparameter: `class_weight='balanced'`\n",
    "#### Logistic regression with balanced class weights"
   ]
  },
  {
   "cell_type": "code",
   "execution_count": 51,
   "metadata": {},
   "outputs": [],
   "source": [
    "## split into train test sets\n",
    "X_train,X_test,y_train,y_test = train_test_split(X, y, test_size=0.2, random_state=42)"
   ]
  },
  {
   "cell_type": "code",
   "execution_count": 52,
   "metadata": {},
   "outputs": [],
   "source": [
    "# weighted logistic regression for class imbalance with heuristic weights\n",
    "\n",
    "# define model\n",
    "model = LogisticRegression(solver='lbfgs', class_weight='balanced', max_iter=2000)\n",
    "#model performance\n",
    "model.fit(X_train, y_train)\n",
    "y_pred=model.predict(X_test)"
   ]
  },
  {
   "cell_type": "code",
   "execution_count": 53,
   "metadata": {},
   "outputs": [
    {
     "name": "stdout",
     "output_type": "stream",
     "text": [
      "ROCAUC score: 0.9818423721512376\n",
      "              precision    recall  f1-score   support\n",
      "\n",
      "     class 0       1.00      0.96      0.98    589642\n",
      "     class 1       0.05      1.00      0.10      1204\n",
      "\n",
      "    accuracy                           0.96    590846\n",
      "   macro avg       0.53      0.98      0.54    590846\n",
      "weighted avg       1.00      0.96      0.98    590846\n",
      "\n"
     ]
    },
    {
     "data": {
      "image/png": "[encoded data removed]",
      "text/plain": [
       "<Figure size 432x288 with 2 Axes>"
      ]
     },
     "metadata": {
      "needs_background": "light"
     },
     "output_type": "display_data"
    }
   ],
   "source": [
    "print('ROCAUC score:',roc_auc_score(y_test, y_pred))\n",
    "print(classification_report(y_test, y_pred, target_names=target_names))\n",
    "plot_confusion_matrix(model, X_test, y_test, display_labels=target_names,cmap=plt.cm.Blues);"
   ]
  },
  {
   "cell_type": "markdown",
   "metadata": {},
   "source": [
    "## Modelo con GaussianNB"
   ]
  },
  {
   "cell_type": "code",
   "execution_count": 54,
   "metadata": {},
   "outputs": [],
   "source": [
    "from sklearn.naive_bayes import *\n",
    "model2 = GaussianNB()\n",
    "model2.fit(X_train,y_train)\n",
    "y_pred2=model2.predict(X_test)"
   ]
  },
  {
   "cell_type": "code",
   "execution_count": 55,
   "metadata": {},
   "outputs": [
    {
     "name": "stdout",
     "output_type": "stream",
     "text": [
      "ROCAUC score: 0.5033484335858232\n",
      "              precision    recall  f1-score   support\n",
      "\n",
      "     class 0       1.00      0.02      0.04    589642\n",
      "     class 1       0.00      0.99      0.00      1204\n",
      "\n",
      "    accuracy                           0.02    590846\n",
      "   macro avg       0.50      0.50      0.02    590846\n",
      "weighted avg       1.00      0.02      0.04    590846\n",
      "\n"
     ]
    },
    {
     "data": {
      "image/png": "[encoded data removed]",
      "text/plain": [
       "<Figure size 432x288 with 2 Axes>"
      ]
     },
     "metadata": {
      "needs_background": "light"
     },
     "output_type": "display_data"
    }
   ],
   "source": [
    "print('ROCAUC score:',roc_auc_score(y_test, y_pred2))\n",
    "print(classification_report(y_test, y_pred2, target_names=target_names))\n",
    "plot_confusion_matrix(model2, X_test, y_test, display_labels=target_names,cmap=plt.cm.Blues);"
   ]
  },
  {
   "cell_type": "markdown",
   "metadata": {},
   "source": [
    "## Weighted Decision Tree with `balanced` hyperparameter"
   ]
  },
  {
   "cell_type": "code",
   "execution_count": 56,
   "metadata": {},
   "outputs": [],
   "source": [
    "# define model\n",
    "model_DT_b = DecisionTreeClassifier(class_weight='balanced')\n",
    "#model performance\n",
    "model_DT_b.fit(X_train, y_train)\n",
    "y_pred_DT_b=model_DT_b.predict(X_test)"
   ]
  },
  {
   "cell_type": "code",
   "execution_count": 57,
   "metadata": {},
   "outputs": [
    {
     "name": "stdout",
     "output_type": "stream",
     "text": [
      "ROCAUC score: 1.0\n",
      "              precision    recall  f1-score   support\n",
      "\n",
      "     class 0       1.00      1.00      1.00    589642\n",
      "     class 1       1.00      1.00      1.00      1204\n",
      "\n",
      "    accuracy                           1.00    590846\n",
      "   macro avg       1.00      1.00      1.00    590846\n",
      "weighted avg       1.00      1.00      1.00    590846\n",
      "\n"
     ]
    },
    {
     "data": {
      "image/png": "[encoded data removed]",
      "text/plain": [
       "<Figure size 432x288 with 2 Axes>"
      ]
     },
     "metadata": {
      "needs_background": "light"
     },
     "output_type": "display_data"
    }
   ],
   "source": [
    "print('ROCAUC score:',roc_auc_score(y_test, y_pred_DT_b))\n",
    "\n",
    "print(classification_report(y_test, y_pred_DT_b, target_names=target_names))\n",
    "plot_confusion_matrix(model_DT_b, X_test, y_test, display_labels=target_names,cmap=plt.cm.Blues);"
   ]
  },
  {
   "cell_type": "markdown",
   "metadata": {},
   "source": [
    "### Weighted SVM"
   ]
  },
  {
   "cell_type": "code",
   "execution_count": null,
   "metadata": {},
   "outputs": [],
   "source": [
    "model_SVM = SVC(class_weight='balanced', probability=True)\n",
    "model_SVM.fit(X_train, y_train)\n",
    "y_pred_SVM = model_SVM.predict(X_test)\n",
    "y_pred_SVM = model_SVM.predict(X_test)"
   ]
  },
  {
   "cell_type": "code",
   "execution_count": null,
   "metadata": {},
   "outputs": [],
   "source": [
    "print('ROCAUC score:',roc_auc_score(y_test, y_pred_SVM))\n",
    "print('Accuracy score:',accuracy_score(y_test, y_pred_SVM))\n",
    "print('F1 score:',f1_score(y_test, y_pred_SVM))\n",
    "print('Recall score:',recall_score(y_test, y_pred_SVM))\n",
    "print('Precision score:',precision_score(y_test, y_pred_SVM))\n",
    "\n",
    "print(classification_report(y_test, y_pred_SVM, target_names=target_names))\n",
    "plot_confusion_matrix(model_SVM, X_test, y_test, display_labels=target_names,cmap=plt.cm.Blues);"
   ]
  },
  {
   "cell_type": "code",
   "execution_count": null,
   "metadata": {},
   "outputs": [],
   "source": [
    "%reset -f"
   ]
  },
  {
   "cell_type": "code",
   "execution_count": null,
   "metadata": {},
   "outputs": [],
   "source": []
  }
 ],
 "metadata": {
  "kernelspec": {
   "display_name": "Python 3",
   "language": "python",
   "name": "python3"
  },
  "language_info": {
   "codemirror_mode": {
    "name": "ipython",
    "version": 3
   },
   "file_extension": ".py",
   "mimetype": "text/x-python",
   "name": "python",
   "nbconvert_exporter": "python",
   "pygments_lexer": "ipython3",
   "version": "3.8.5"
  }
 },
 "nbformat": 4,
 "nbformat_minor": 4
}
